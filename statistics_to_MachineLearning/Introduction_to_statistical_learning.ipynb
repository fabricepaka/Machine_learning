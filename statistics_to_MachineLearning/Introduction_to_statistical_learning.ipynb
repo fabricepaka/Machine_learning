{
 "cells": [
  {
   "cell_type": "markdown",
   "id": "863e5758-d71b-44fb-9533-8ab71a9a0cea",
   "metadata": {},
   "source": [
    "# What is machine learning?\n",
    "Machine learning can be seen as:\n",
    "- algorithms for solving inference problems\n",
    "- models for datasets\n",
    "\n",
    "Statistical inference is the process of using data analysis to deduce properties of an underlying probability distribution.\n",
    "\n",
    "Machine learning algorithms are algorithms for building inference algorithms from examples.\n",
    "\n",
    "Modelling: consist of describing dataset in quantitative, mathematical manner. There are 02 types of models: \n",
    "-probabilistic models:used to find a probability distribution that describes the dataset\n",
    "-geometric models: used to find some kind of geometric structure that describes  dataset\n",
    "\n",
    "## Machine learning examples \n",
    "• **Classification:** from data to discrete classes\n",
    "- Spam filtering\n",
    "- Object detection (e.g., face)\n",
    "- Weather prediction (e.g., rain, snow, sun)\n",
    "\n",
    "• **Regression:** predicting a numeric value\n",
    "- Stock market\n",
    "- Weather prediction (e.g., Temperature)\n",
    "\n",
    "• **Ranking:** comparing items\n",
    "- Web search (keywords)\n",
    "- Given an image, find similar images\n",
    "\n",
    "• **Collaborative Filtering** (e.g., Recommendation systems)\n",
    "\n",
    "• **Clustering:** discovering structure in data\n",
    "- Clustering points or images\n",
    "- Clustering web search results\n",
    "\n",
    "• **Embedding:** visualizing data\n",
    "- Embedding images, words\n",
    "\n",
    "• **Structured prediction:** from data to discrete classes\n",
    "- Speech/image recognition\n",
    "- Natural language processing\n",
    "\n",
    "\n",
    "\n",
    "## Different types of machine learning \n",
    "There are 03 type of machine learning which are summarised in the following table:\n",
    "\n",
    "$\n",
    "\\begin{array}{|c|c|}\n",
    "\\hline\n",
    "\\text{Type of machine learning } & \\text{Most popular tasks} \\\\ \\hline\n",
    "\\text{Supervised learning} & \\text{Classification, regression} \\\\ \\hline\n",
    "\\text{Unsupervised learning} & \\text{Clustering} \\\\ \\hline\n",
    "\\text{Reinforcement learning} & \\text{Chess engine} \\\\ \\hline\n",
    "\\end{array}\n",
    "$\n",
    "\n",
    "\n",
    "## Supervised Learning \n",
    "\n",
    "- **Assumption:** Given a data set $ {(x_i , y_i )}$, ∃ a relation $f : X \\rightarrow Y .$\n",
    "- **Mathematical definition of Supervised learning can be summarised as follow:**\n",
    "\n",
    "Given : Training set ${(xi , yi ) | i = 1, · · · , N }$, find  $\\hat{f}: X → Y$ , a good approximation to $f$\n",
    "\n",
    "\n",
    "\n",
    "## Unsupervised Learning\n",
    "In unsupervised learning, however, we are dealing with unlabeled\n",
    "data or data of unknown structure. Using unsupervised learn-\n",
    "ing techniques, we are able to explore the structure of our data\n",
    "to extract meaningful information without the guidance of a\n",
    "known outcome variable or reward function.\n",
    "\n",
    "\n",
    "## Reinforcement learning\n",
    "is the science of decision making, combining machine learning and optimal control.\n",
    "\n",
    "## issues in Machine learning\n"
   ]
  },
  {
   "cell_type": "code",
   "execution_count": null,
   "id": "e32a8561",
   "metadata": {},
   "outputs": [],
   "source": []
  },
  {
   "cell_type": "code",
   "execution_count": null,
   "id": "3714bb85-c1c4-4ac4-80b2-f205440dfc89",
   "metadata": {},
   "outputs": [],
   "source": [
    "\n",
    "\n"
   ]
  },
  {
   "cell_type": "code",
   "execution_count": null,
   "id": "2f8caa4d-a6c1-4785-a031-c188e3389b5d",
   "metadata": {},
   "outputs": [],
   "source": []
  }
 ],
 "metadata": {
  "kernelspec": {
   "display_name": "Python 3 (ipykernel)",
   "language": "python",
   "name": "python3"
  },
  "language_info": {
   "codemirror_mode": {
    "name": "ipython",
    "version": 3
   },
   "file_extension": ".py",
   "mimetype": "text/x-python",
   "name": "python",
   "nbconvert_exporter": "python",
   "pygments_lexer": "ipython3",
   "version": "3.7.16"
  },
  "widgets": {
   "application/vnd.jupyter.widget-state+json": {
    "state": {},
    "version_major": 2,
    "version_minor": 0
   }
  }
 },
 "nbformat": 4,
 "nbformat_minor": 5
}
