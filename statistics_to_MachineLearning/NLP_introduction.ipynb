{
 "cells": [
  {
   "cell_type": "markdown",
   "metadata": {},
   "source": [
    "# Natural Language Processing (NLP)\n",
    "\n",
    "Welcome to the notebook for introduction to natural language processing. In this notebook you will learn the basics of NLP that will be handy for you to do NLP in the future\n",
    "\n",
    "\n",
    "Natural language processing is performed on text collections, composed of Tweets,\n",
    "Facebook posts, conversations, movie reviews, Shakespeare’s plays, historic documents,\n",
    "news items, meeting logs, and so much more. A text collection is known as a corpus, the\n",
    "plural of which is corpora.\n",
    "\n",
    "### What is TextBlob\n",
    "TextBlob is an object-oriented NLP text-processing library built on the NLTK\n",
    "and pattern NLP libraries, and simplifies accessing their capabilities.\n",
    "\n"
   ]
  },
  {
   "cell_type": "markdown",
   "metadata": {},
   "source": [
    "## Create a TextBlob"
   ]
  },
  {
   "cell_type": "code",
   "execution_count": null,
   "metadata": {},
   "outputs": [],
   "source": [
    "from textblob import TextBlob\n",
    "\n"
   ]
  }
 ],
 "metadata": {
  "kernelspec": {
   "display_name": "base",
   "language": "python",
   "name": "python3"
  },
  "language_info": {
   "name": "python",
   "version": "3.11.5"
  }
 },
 "nbformat": 4,
 "nbformat_minor": 2
}
